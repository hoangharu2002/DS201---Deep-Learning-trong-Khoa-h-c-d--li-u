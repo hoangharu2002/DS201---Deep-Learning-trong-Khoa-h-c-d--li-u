{
 "cells": [
  {
   "cell_type": "markdown",
   "metadata": {},
   "source": [
    "|Họ và Tên|MSSV|Lớp TH|\n",
    "|:-|:-:|:-:|\n",
    "|Nguyễn Nhật Hoàng|20520516|.2|"
   ]
  },
  {
   "cell_type": "markdown",
   "metadata": {},
   "source": [
    "#### Resources"
   ]
  },
  {
   "cell_type": "code",
   "execution_count": 23,
   "metadata": {},
   "outputs": [
    {
     "data": {
      "text/plain": [
       "Ellipsis"
      ]
     },
     "execution_count": 23,
     "metadata": {},
     "output_type": "execute_result"
    }
   ],
   "source": [
    "import numpy as np\n",
    "from tensorflow.keras.datasets import mnist\n",
    "from tensorflow.keras.utils import to_categorical\n",
    "from tensorflow.keras.models import Sequential\n",
    "from tensorflow.keras.layers import Dense\n",
    "from tensorflow.keras.optimizers import SGD\n",
    "from sklearn.metrics import precision_recall_fscore_support, accuracy_score\n",
    "\n",
    "..."
   ]
  },
  {
   "cell_type": "markdown",
   "metadata": {},
   "source": [
    "#### Bài 1: Xây dựng mô hình 1-layer MLP và hàm Softmax làm activation function. Huấn luyện mô hình này sử dụng SGD làm optimizer và đánh giá trên các độ đo accuracy, precision, recall và F1-macro. Đánh giá kết quả của mô hình với từng chữ số.\n"
   ]
  },
  {
   "cell_type": "code",
   "execution_count": 9,
   "metadata": {},
   "outputs": [],
   "source": [
    "# Tải dữ liệu MNIST từ thư viện Keras\n",
    "(train_images, train_labels), (test_images, test_labels) = mnist.load_data()\n",
    "\n",
    "# Chuẩn hóa dữ liệu (chuyển các giá trị pixel từ 0-255 về 0-1)\n",
    "train_images = train_images.astype('float32') / 255.0\n",
    "test_images = test_images.astype('float32') / 255.0\n",
    "\n",
    "# Chuyển đổi nhãn thành dạng one-hot encoding\n",
    "train_labels = to_categorical(train_labels, 10)\n",
    "test_labels = to_categorical(test_labels, 10)\n",
    "\n",
    "# Reshape dữ liệu từ (28, 28) thành (784,) cho MLP\n",
    "train_images = train_images.reshape((train_images.shape[0], 28 * 28))\n",
    "test_images = test_images.reshape((test_images.shape[0], 28 * 28))\n"
   ]
  },
  {
   "cell_type": "code",
   "execution_count": 10,
   "metadata": {},
   "outputs": [
    {
     "name": "stderr",
     "output_type": "stream",
     "text": [
      "C:\\Users\\PhongVu\\AppData\\Roaming\\Python\\Python312\\site-packages\\keras\\src\\layers\\core\\dense.py:87: UserWarning: Do not pass an `input_shape`/`input_dim` argument to a layer. When using Sequential models, prefer using an `Input(shape)` object as the first layer in the model instead.\n",
      "  super().__init__(activity_regularizer=activity_regularizer, **kwargs)\n"
     ]
    },
    {
     "name": "stdout",
     "output_type": "stream",
     "text": [
      "Epoch 1/10\n",
      "\u001b[1m938/938\u001b[0m \u001b[32m━━━━━━━━━━━━━━━━━━━━\u001b[0m\u001b[37m\u001b[0m \u001b[1m2s\u001b[0m 2ms/step - accuracy: 0.6365 - loss: 1.3866 - val_accuracy: 0.8621 - val_loss: 0.6074\n",
      "Epoch 2/10\n",
      "\u001b[1m938/938\u001b[0m \u001b[32m━━━━━━━━━━━━━━━━━━━━\u001b[0m\u001b[37m\u001b[0m \u001b[1m1s\u001b[0m 1ms/step - accuracy: 0.8580 - loss: 0.5886 - val_accuracy: 0.8794 - val_loss: 0.4803\n",
      "Epoch 3/10\n",
      "\u001b[1m938/938\u001b[0m \u001b[32m━━━━━━━━━━━━━━━━━━━━\u001b[0m\u001b[37m\u001b[0m \u001b[1m1s\u001b[0m 1ms/step - accuracy: 0.8754 - loss: 0.4911 - val_accuracy: 0.8876 - val_loss: 0.4296\n",
      "Epoch 4/10\n",
      "\u001b[1m938/938\u001b[0m \u001b[32m━━━━━━━━━━━━━━━━━━━━\u001b[0m\u001b[37m\u001b[0m \u001b[1m1s\u001b[0m 1ms/step - accuracy: 0.8851 - loss: 0.4391 - val_accuracy: 0.8927 - val_loss: 0.4013\n",
      "Epoch 5/10\n",
      "\u001b[1m938/938\u001b[0m \u001b[32m━━━━━━━━━━━━━━━━━━━━\u001b[0m\u001b[37m\u001b[0m \u001b[1m1s\u001b[0m 1ms/step - accuracy: 0.8888 - loss: 0.4139 - val_accuracy: 0.8974 - val_loss: 0.3816\n",
      "Epoch 6/10\n",
      "\u001b[1m938/938\u001b[0m \u001b[32m━━━━━━━━━━━━━━━━━━━━\u001b[0m\u001b[37m\u001b[0m \u001b[1m1s\u001b[0m 1ms/step - accuracy: 0.8925 - loss: 0.3997 - val_accuracy: 0.9014 - val_loss: 0.3675\n",
      "Epoch 7/10\n",
      "\u001b[1m938/938\u001b[0m \u001b[32m━━━━━━━━━━━━━━━━━━━━\u001b[0m\u001b[37m\u001b[0m \u001b[1m1s\u001b[0m 1ms/step - accuracy: 0.8983 - loss: 0.3811 - val_accuracy: 0.9038 - val_loss: 0.3572\n",
      "Epoch 8/10\n",
      "\u001b[1m938/938\u001b[0m \u001b[32m━━━━━━━━━━━━━━━━━━━━\u001b[0m\u001b[37m\u001b[0m \u001b[1m1s\u001b[0m 1ms/step - accuracy: 0.8967 - loss: 0.3771 - val_accuracy: 0.9055 - val_loss: 0.3488\n",
      "Epoch 9/10\n",
      "\u001b[1m938/938\u001b[0m \u001b[32m━━━━━━━━━━━━━━━━━━━━\u001b[0m\u001b[37m\u001b[0m \u001b[1m1s\u001b[0m 1ms/step - accuracy: 0.9023 - loss: 0.3570 - val_accuracy: 0.9069 - val_loss: 0.3423\n",
      "Epoch 10/10\n",
      "\u001b[1m938/938\u001b[0m \u001b[32m━━━━━━━━━━━━━━━━━━━━\u001b[0m\u001b[37m\u001b[0m \u001b[1m1s\u001b[0m 1ms/step - accuracy: 0.9038 - loss: 0.3569 - val_accuracy: 0.9086 - val_loss: 0.3368\n"
     ]
    },
    {
     "data": {
      "text/plain": [
       "<keras.src.callbacks.history.History at 0x2f127f383e0>"
      ]
     },
     "execution_count": 10,
     "metadata": {},
     "output_type": "execute_result"
    }
   ],
   "source": [
    "# Xây dựng mô hình MLP\n",
    "model = Sequential()\n",
    "model.add(Dense(10, activation='softmax', input_shape=(28 * 28,)))\n",
    "\n",
    "# Compile mô hình với optimizer SGD và loss là categorical crossentropy\n",
    "model.compile(optimizer=SGD(learning_rate=0.01), loss='categorical_crossentropy', metrics=['accuracy'])\n",
    "\n",
    "# Huấn luyện mô hình\n",
    "model.fit(train_images, train_labels, epochs=10, batch_size=64, validation_data=(test_images, test_labels))\n"
   ]
  },
  {
   "cell_type": "code",
   "execution_count": 19,
   "metadata": {},
   "outputs": [
    {
     "name": "stdout",
     "output_type": "stream",
     "text": [
      "\u001b[1m313/313\u001b[0m \u001b[32m━━━━━━━━━━━━━━━━━━━━\u001b[0m\u001b[37m\u001b[0m \u001b[1m0s\u001b[0m 809us/step\n",
      "Accuracy: 0.9086\n",
      "Class 0: Precision: 0.9365, Recall: 0.9786, F1-score: 0.9571\n",
      "Class 1: Precision: 0.9542, Recall: 0.9718, F1-score: 0.9629\n",
      "Class 2: Precision: 0.9236, Recall: 0.8663, F1-score: 0.8940\n",
      "Class 3: Precision: 0.8983, Recall: 0.8921, F1-score: 0.8952\n",
      "Class 4: Precision: 0.8902, Recall: 0.9246, F1-score: 0.9071\n",
      "Class 5: Precision: 0.8919, Recall: 0.8419, F1-score: 0.8662\n",
      "Class 6: Precision: 0.9270, Recall: 0.9415, F1-score: 0.9342\n",
      "Class 7: Precision: 0.9163, Recall: 0.9047, F1-score: 0.9104\n",
      "Class 8: Precision: 0.8523, Recall: 0.8768, F1-score: 0.8644\n",
      "Class 9: Precision: 0.8867, Recall: 0.8761, F1-score: 0.8814\n"
     ]
    }
   ],
   "source": [
    "# Dự đoán trên tập test\n",
    "y_pred = model.predict(test_images)\n",
    "y_pred_classes = np.argmax(y_pred, axis=1)\n",
    "y_true_classes = np.argmax(test_labels, axis=1)\n",
    "\n",
    "# Đánh giá các độ đo\n",
    "precision, recall, f1, _ = precision_recall_fscore_support(y_true_classes, y_pred_classes, average=None)\n",
    "accuracy = accuracy_score(y_true_classes, y_pred_classes)\n",
    "\n",
    "# In kết quả\n",
    "print(f'Accuracy: {accuracy:.4f}')\n",
    "for i in range(10):  # In ra các\n",
    "    print(f'Class {i}: Precision: {precision[i]:.4f}, Recall: {recall[i]:.4f}, F1-score: {f1[i]:.4f}')\n"
   ]
  },
  {
   "cell_type": "markdown",
   "metadata": {},
   "source": [
    "#### Bài 2: Xây dựng mô hình 3-layer MLP, hàm ReLU và hàm softmax làm activation function. Trong đó activation function cho 2 layer đầu là ReLU và activation function cho layer cuối là Softmax. Huấn luyện mô hình này sử dụng SGD làm optimizer và đánh giá trên các độ đo accuracy, precision, recall và F1-macro. Đánh giá kết quả của mô hình với từng chữ số.\n"
   ]
  },
  {
   "cell_type": "code",
   "execution_count": 12,
   "metadata": {},
   "outputs": [
    {
     "name": "stderr",
     "output_type": "stream",
     "text": [
      "C:\\Users\\PhongVu\\AppData\\Roaming\\Python\\Python312\\site-packages\\keras\\src\\layers\\core\\dense.py:87: UserWarning: Do not pass an `input_shape`/`input_dim` argument to a layer. When using Sequential models, prefer using an `Input(shape)` object as the first layer in the model instead.\n",
      "  super().__init__(activity_regularizer=activity_regularizer, **kwargs)\n"
     ]
    }
   ],
   "source": [
    "# Xây dựng mô hình MLP 3-layer\n",
    "model3 = Sequential()\n",
    "\n",
    "# Layer 1: Dense với 128 neurons, activation là ReLU\n",
    "model3.add(Dense(128, activation='relu', input_shape=(28 * 28,)))\n",
    "\n",
    "# Layer 2: Dense với 64 neurons, activation là ReLU\n",
    "model3.add(Dense(64, activation='relu'))\n",
    "\n",
    "# Layer 3: Dense với 10 đầu ra, activation là Softmax (phân loại thành 10 lớp)\n",
    "model3.add(Dense(10, activation='softmax'))\n",
    "\n",
    "# Compile mô hình với optimizer SGD và loss là categorical crossentropy\n",
    "model3.compile(optimizer=SGD(learning_rate=0.01), loss='categorical_crossentropy', metrics=['accuracy'])"
   ]
  },
  {
   "cell_type": "code",
   "execution_count": 13,
   "metadata": {},
   "outputs": [
    {
     "name": "stdout",
     "output_type": "stream",
     "text": [
      "Epoch 1/10\n",
      "\u001b[1m938/938\u001b[0m \u001b[32m━━━━━━━━━━━━━━━━━━━━\u001b[0m\u001b[37m\u001b[0m \u001b[1m3s\u001b[0m 2ms/step - accuracy: 0.6306 - loss: 1.3306 - val_accuracy: 0.8907 - val_loss: 0.3974\n",
      "Epoch 2/10\n",
      "\u001b[1m938/938\u001b[0m \u001b[32m━━━━━━━━━━━━━━━━━━━━\u001b[0m\u001b[37m\u001b[0m \u001b[1m2s\u001b[0m 2ms/step - accuracy: 0.8953 - loss: 0.3784 - val_accuracy: 0.9141 - val_loss: 0.3068\n",
      "Epoch 3/10\n",
      "\u001b[1m938/938\u001b[0m \u001b[32m━━━━━━━━━━━━━━━━━━━━\u001b[0m\u001b[37m\u001b[0m \u001b[1m2s\u001b[0m 2ms/step - accuracy: 0.9105 - loss: 0.3080 - val_accuracy: 0.9205 - val_loss: 0.2770\n",
      "Epoch 4/10\n",
      "\u001b[1m938/938\u001b[0m \u001b[32m━━━━━━━━━━━━━━━━━━━━\u001b[0m\u001b[37m\u001b[0m \u001b[1m2s\u001b[0m 2ms/step - accuracy: 0.9224 - loss: 0.2704 - val_accuracy: 0.9283 - val_loss: 0.2491\n",
      "Epoch 5/10\n",
      "\u001b[1m938/938\u001b[0m \u001b[32m━━━━━━━━━━━━━━━━━━━━\u001b[0m\u001b[37m\u001b[0m \u001b[1m2s\u001b[0m 2ms/step - accuracy: 0.9301 - loss: 0.2449 - val_accuracy: 0.9325 - val_loss: 0.2293\n",
      "Epoch 6/10\n",
      "\u001b[1m938/938\u001b[0m \u001b[32m━━━━━━━━━━━━━━━━━━━━\u001b[0m\u001b[37m\u001b[0m \u001b[1m2s\u001b[0m 2ms/step - accuracy: 0.9335 - loss: 0.2283 - val_accuracy: 0.9386 - val_loss: 0.2172\n",
      "Epoch 7/10\n",
      "\u001b[1m938/938\u001b[0m \u001b[32m━━━━━━━━━━━━━━━━━━━━\u001b[0m\u001b[37m\u001b[0m \u001b[1m2s\u001b[0m 2ms/step - accuracy: 0.9368 - loss: 0.2177 - val_accuracy: 0.9413 - val_loss: 0.2029\n",
      "Epoch 8/10\n",
      "\u001b[1m938/938\u001b[0m \u001b[32m━━━━━━━━━━━━━━━━━━━━\u001b[0m\u001b[37m\u001b[0m \u001b[1m2s\u001b[0m 2ms/step - accuracy: 0.9427 - loss: 0.2016 - val_accuracy: 0.9438 - val_loss: 0.1913\n",
      "Epoch 9/10\n",
      "\u001b[1m938/938\u001b[0m \u001b[32m━━━━━━━━━━━━━━━━━━━━\u001b[0m\u001b[37m\u001b[0m \u001b[1m2s\u001b[0m 2ms/step - accuracy: 0.9462 - loss: 0.1876 - val_accuracy: 0.9476 - val_loss: 0.1796\n",
      "Epoch 10/10\n",
      "\u001b[1m938/938\u001b[0m \u001b[32m━━━━━━━━━━━━━━━━━━━━\u001b[0m\u001b[37m\u001b[0m \u001b[1m2s\u001b[0m 2ms/step - accuracy: 0.9492 - loss: 0.1773 - val_accuracy: 0.9504 - val_loss: 0.1705\n"
     ]
    },
    {
     "data": {
      "text/plain": [
       "<keras.src.callbacks.history.History at 0x2f127fdc860>"
      ]
     },
     "execution_count": 13,
     "metadata": {},
     "output_type": "execute_result"
    }
   ],
   "source": [
    "# Huấn luyện mô hình\n",
    "model3.fit(train_images, train_labels, epochs=10, batch_size=64, validation_data=(test_images, test_labels))"
   ]
  },
  {
   "cell_type": "code",
   "execution_count": 21,
   "metadata": {},
   "outputs": [
    {
     "name": "stdout",
     "output_type": "stream",
     "text": [
      "\u001b[1m313/313\u001b[0m \u001b[32m━━━━━━━━━━━━━━━━━━━━\u001b[0m\u001b[37m\u001b[0m \u001b[1m0s\u001b[0m 959us/step\n",
      "Accuracy: 0.9504\n",
      "Class 0: Precision: 0.9658, Recall: 0.9786, F1-score: 0.9721\n",
      "Class 1: Precision: 0.9721, Recall: 0.9841, F1-score: 0.9781\n",
      "Class 2: Precision: 0.9559, Recall: 0.9448, F1-score: 0.9503\n",
      "Class 3: Precision: 0.9363, Recall: 0.9465, F1-score: 0.9414\n",
      "Class 4: Precision: 0.9496, Recall: 0.9603, F1-score: 0.9549\n",
      "Class 5: Precision: 0.9389, Recall: 0.9305, F1-score: 0.9347\n",
      "Class 6: Precision: 0.9363, Recall: 0.9666, F1-score: 0.9512\n",
      "Class 7: Precision: 0.9427, Recall: 0.9436, F1-score: 0.9431\n",
      "Class 8: Precision: 0.9520, Recall: 0.9158, F1-score: 0.9335\n",
      "Class 9: Precision: 0.9503, Recall: 0.9277, F1-score: 0.9388\n"
     ]
    }
   ],
   "source": [
    "# Dự đoán\n",
    "y3_pred = model3.predict(test_images)\n",
    "y3_pred_classes = np.argmax(y3_pred, axis=1)\n",
    "y3_true_classes = np.argmax(test_labels, axis=1)\n",
    "\n",
    "# Tính accuracy\n",
    "accuracy = accuracy_score(y3_true_classes, y3_pred_classes)\n",
    "\n",
    "# Tính precision, recall, F1 cho từng lớp (chữ số từ 0 đến 9)\n",
    "precision, recall, f1, _ = precision_recall_fscore_support(y3_true_classes, y3_pred_classes, average=None)\n",
    "\n",
    "# In kết quả\n",
    "print(f'Accuracy: {accuracy:.4f}')\n",
    "for i in range(10):  # Với từng chữ số từ 0 đến 9\n",
    "    print(f'Class {i}: Precision: {precision[i]:.4f}, Recall: {recall[i]:.4f}, F1-score: {f1[i]:.4f}')"
   ]
  }
 ],
 "metadata": {
  "kernelspec": {
   "display_name": "Python 3",
   "language": "python",
   "name": "python3"
  },
  "language_info": {
   "codemirror_mode": {
    "name": "ipython",
    "version": 3
   },
   "file_extension": ".py",
   "mimetype": "text/x-python",
   "name": "python",
   "nbconvert_exporter": "python",
   "pygments_lexer": "ipython3",
   "version": "3.12.3"
  }
 },
 "nbformat": 4,
 "nbformat_minor": 2
}
