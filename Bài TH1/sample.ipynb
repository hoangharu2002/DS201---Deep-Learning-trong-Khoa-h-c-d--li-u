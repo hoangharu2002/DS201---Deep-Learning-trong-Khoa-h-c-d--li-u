{
 "cells": [
  {
   "cell_type": "markdown",
   "metadata": {},
   "source": [
    "|Họ và Tên|MSSV|Lớp TH|\n",
    "|:-|:-:|:-:|\n",
    "|Nguyễn Nhật Hoàng|20520516|.2|"
   ]
  },
  {
   "cell_type": "markdown",
   "metadata": {},
   "source": [
    "#### Resources"
   ]
  },
  {
   "cell_type": "code",
   "execution_count": 32,
   "metadata": {},
   "outputs": [
    {
     "data": {
      "text/plain": [
       "Ellipsis"
      ]
     },
     "execution_count": 32,
     "metadata": {},
     "output_type": "execute_result"
    }
   ],
   "source": [
    "import numpy as np\n",
    "from tensorflow.keras.datasets import mnist\n",
    "from tensorflow.keras.utils import to_categorical\n",
    "from tensorflow.keras.models import Sequential\n",
    "from tensorflow.keras.layers import Dense\n",
    "from tensorflow.keras.optimizers import SGD\n",
    "from sklearn.metrics import precision_recall_fscore_support, accuracy_score\n",
    "import matplotlib.pyplot as plt\n",
    "\n",
    "..."
   ]
  },
  {
   "cell_type": "markdown",
   "metadata": {},
   "source": [
    "#### Bài 1: Xây dựng mô hình 1-layer MLP và hàm Softmax làm activation function. Huấn luyện mô hình này sử dụng SGD làm optimizer và đánh giá trên các độ đo accuracy, precision, recall và F1-macro. Đánh giá kết quả của mô hình với từng chữ số.\n"
   ]
  },
  {
   "cell_type": "code",
   "execution_count": 26,
   "metadata": {},
   "outputs": [],
   "source": [
    "# Tải dữ liệu MNIST từ thư viện Keras\n",
    "(train_images, train_labels), (test_images, test_labels) = mnist.load_data()\n",
    "\n",
    "# Chuẩn hóa dữ liệu (chuyển các giá trị pixel từ 0-255 về 0-1)\n",
    "train_images = train_images.astype('float32') / 255.0\n",
    "test_images = test_images.astype('float32') / 255.0\n",
    "\n",
    "# Chuyển đổi nhãn thành dạng one-hot encoding\n",
    "train_labels = to_categorical(train_labels, 10)\n",
    "test_labels = to_categorical(test_labels, 10)\n",
    "\n",
    "# Reshape dữ liệu từ (28, 28) thành (784,) cho MLP\n",
    "train_images = train_images.reshape((train_images.shape[0], 28 * 28))\n",
    "test_images = test_images.reshape((test_images.shape[0], 28 * 28))\n"
   ]
  },
  {
   "cell_type": "code",
   "execution_count": 27,
   "metadata": {},
   "outputs": [
    {
     "name": "stderr",
     "output_type": "stream",
     "text": [
      "C:\\Users\\PhongVu\\AppData\\Roaming\\Python\\Python312\\site-packages\\keras\\src\\layers\\core\\dense.py:87: UserWarning: Do not pass an `input_shape`/`input_dim` argument to a layer. When using Sequential models, prefer using an `Input(shape)` object as the first layer in the model instead.\n",
      "  super().__init__(activity_regularizer=activity_regularizer, **kwargs)\n"
     ]
    },
    {
     "name": "stdout",
     "output_type": "stream",
     "text": [
      "Epoch 1/10\n",
      "\u001b[1m938/938\u001b[0m \u001b[32m━━━━━━━━━━━━━━━━━━━━\u001b[0m\u001b[37m\u001b[0m \u001b[1m3s\u001b[0m 2ms/step - accuracy: 0.6162 - loss: 1.4274 - val_accuracy: 0.8604 - val_loss: 0.6110\n",
      "Epoch 2/10\n",
      "\u001b[1m938/938\u001b[0m \u001b[32m━━━━━━━━━━━━━━━━━━━━\u001b[0m\u001b[37m\u001b[0m \u001b[1m2s\u001b[0m 2ms/step - accuracy: 0.8585 - loss: 0.5926 - val_accuracy: 0.8827 - val_loss: 0.4802\n",
      "Epoch 3/10\n",
      "\u001b[1m938/938\u001b[0m \u001b[32m━━━━━━━━━━━━━━━━━━━━\u001b[0m\u001b[37m\u001b[0m \u001b[1m1s\u001b[0m 1ms/step - accuracy: 0.8765 - loss: 0.4883 - val_accuracy: 0.8910 - val_loss: 0.4282\n",
      "Epoch 4/10\n",
      "\u001b[1m938/938\u001b[0m \u001b[32m━━━━━━━━━━━━━━━━━━━━\u001b[0m\u001b[37m\u001b[0m \u001b[1m1s\u001b[0m 1ms/step - accuracy: 0.8834 - loss: 0.4427 - val_accuracy: 0.8963 - val_loss: 0.3994\n",
      "Epoch 5/10\n",
      "\u001b[1m938/938\u001b[0m \u001b[32m━━━━━━━━━━━━━━━━━━━━\u001b[0m\u001b[37m\u001b[0m \u001b[1m1s\u001b[0m 1ms/step - accuracy: 0.8886 - loss: 0.4119 - val_accuracy: 0.9005 - val_loss: 0.3795\n",
      "Epoch 6/10\n",
      "\u001b[1m938/938\u001b[0m \u001b[32m━━━━━━━━━━━━━━━━━━━━\u001b[0m\u001b[37m\u001b[0m \u001b[1m1s\u001b[0m 1ms/step - accuracy: 0.8928 - loss: 0.3938 - val_accuracy: 0.9033 - val_loss: 0.3664\n",
      "Epoch 7/10\n",
      "\u001b[1m938/938\u001b[0m \u001b[32m━━━━━━━━━━━━━━━━━━━━\u001b[0m\u001b[37m\u001b[0m \u001b[1m1s\u001b[0m 1ms/step - accuracy: 0.8971 - loss: 0.3782 - val_accuracy: 0.9059 - val_loss: 0.3550\n",
      "Epoch 8/10\n",
      "\u001b[1m938/938\u001b[0m \u001b[32m━━━━━━━━━━━━━━━━━━━━\u001b[0m\u001b[37m\u001b[0m \u001b[1m1s\u001b[0m 1ms/step - accuracy: 0.8965 - loss: 0.3726 - val_accuracy: 0.9074 - val_loss: 0.3469\n",
      "Epoch 9/10\n",
      "\u001b[1m938/938\u001b[0m \u001b[32m━━━━━━━━━━━━━━━━━━━━\u001b[0m\u001b[37m\u001b[0m \u001b[1m1s\u001b[0m 1ms/step - accuracy: 0.9017 - loss: 0.3585 - val_accuracy: 0.9105 - val_loss: 0.3400\n",
      "Epoch 10/10\n",
      "\u001b[1m938/938\u001b[0m \u001b[32m━━━━━━━━━━━━━━━━━━━━\u001b[0m\u001b[37m\u001b[0m \u001b[1m1s\u001b[0m 1ms/step - accuracy: 0.9028 - loss: 0.3516 - val_accuracy: 0.9100 - val_loss: 0.3347\n"
     ]
    },
    {
     "data": {
      "text/plain": [
       "<keras.src.callbacks.history.History at 0x2f127fb57c0>"
      ]
     },
     "execution_count": 27,
     "metadata": {},
     "output_type": "execute_result"
    }
   ],
   "source": [
    "# Xây dựng mô hình MLP\n",
    "model = Sequential()\n",
    "model.add(Dense(10, activation='softmax', input_shape=(28 * 28,)))\n",
    "\n",
    "# Compile mô hình với optimizer SGD và loss là categorical crossentropy\n",
    "model.compile(optimizer=SGD(learning_rate=0.01), loss='categorical_crossentropy', metrics=['accuracy'])\n",
    "\n",
    "# Huấn luyện mô hình\n",
    "model.fit(train_images, train_labels, epochs=10, batch_size=64, validation_data=(test_images, test_labels))\n"
   ]
  },
  {
   "cell_type": "code",
   "execution_count": 28,
   "metadata": {},
   "outputs": [
    {
     "name": "stdout",
     "output_type": "stream",
     "text": [
      "\u001b[1m313/313\u001b[0m \u001b[32m━━━━━━━━━━━━━━━━━━━━\u001b[0m\u001b[37m\u001b[0m \u001b[1m0s\u001b[0m 1ms/step\n",
      "Accuracy: 0.9100\n",
      "Class 0: Precision: 0.9415, Recall: 0.9847, F1-score: 0.9626\n",
      "Class 1: Precision: 0.9550, Recall: 0.9718, F1-score: 0.9633\n",
      "Class 2: Precision: 0.9256, Recall: 0.8682, F1-score: 0.8960\n",
      "Class 3: Precision: 0.9077, Recall: 0.8960, F1-score: 0.9018\n",
      "Class 4: Precision: 0.8954, Recall: 0.9236, F1-score: 0.9093\n",
      "Class 5: Precision: 0.8865, Recall: 0.8498, F1-score: 0.8678\n",
      "Class 6: Precision: 0.9270, Recall: 0.9405, F1-score: 0.9337\n",
      "Class 7: Precision: 0.9119, Recall: 0.9056, F1-score: 0.9087\n",
      "Class 8: Precision: 0.8563, Recall: 0.8686, F1-score: 0.8624\n",
      "Class 9: Precision: 0.8827, Recall: 0.8801, F1-score: 0.8814\n"
     ]
    }
   ],
   "source": [
    "# Dự đoán trên tập test\n",
    "y1_pred = model.predict(test_images)\n",
    "y1_pred_classes = np.argmax(y1_pred, axis=1)\n",
    "y1_true_classes = np.argmax(test_labels, axis=1)\n",
    "\n",
    "# Đánh giá các độ đo\n",
    "precision1, recall1, f11, _ = precision_recall_fscore_support(y1_true_classes, y1_pred_classes, average=None)\n",
    "accuracy1 = accuracy_score(y1_true_classes, y1_pred_classes)\n",
    "\n",
    "# In kết quả\n",
    "print(f'Accuracy: {accuracy1:.4f}')\n",
    "for i in range(10):  # In ra các\n",
    "    print(f'Class {i}: Precision: {precision1[i]:.4f}, Recall: {recall1[i]:.4f}, F1-score: {f11[i]:.4f}')\n"
   ]
  },
  {
   "cell_type": "markdown",
   "metadata": {},
   "source": [
    "#### Bài 2: Xây dựng mô hình 3-layer MLP, hàm ReLU và hàm softmax làm activation function. Trong đó activation function cho 2 layer đầu là ReLU và activation function cho layer cuối là Softmax. Huấn luyện mô hình này sử dụng SGD làm optimizer và đánh giá trên các độ đo accuracy, precision, recall và F1-macro. Đánh giá kết quả của mô hình với từng chữ số.\n"
   ]
  },
  {
   "cell_type": "code",
   "execution_count": 29,
   "metadata": {},
   "outputs": [
    {
     "name": "stderr",
     "output_type": "stream",
     "text": [
      "C:\\Users\\PhongVu\\AppData\\Roaming\\Python\\Python312\\site-packages\\keras\\src\\layers\\core\\dense.py:87: UserWarning: Do not pass an `input_shape`/`input_dim` argument to a layer. When using Sequential models, prefer using an `Input(shape)` object as the first layer in the model instead.\n",
      "  super().__init__(activity_regularizer=activity_regularizer, **kwargs)\n"
     ]
    }
   ],
   "source": [
    "# Xây dựng mô hình MLP 3-layer\n",
    "model3 = Sequential()\n",
    "\n",
    "# Layer 1: Dense với 128 neurons, activation là ReLU\n",
    "model3.add(Dense(128, activation='relu', input_shape=(28 * 28,)))\n",
    "\n",
    "# Layer 2: Dense với 64 neurons, activation là ReLU\n",
    "model3.add(Dense(64, activation='relu'))\n",
    "\n",
    "# Layer 3: Dense với 10 đầu ra, activation là Softmax (phân loại thành 10 lớp)\n",
    "model3.add(Dense(10, activation='softmax'))\n",
    "\n",
    "# Compile mô hình với optimizer SGD và loss là categorical crossentropy\n",
    "model3.compile(optimizer=SGD(learning_rate=0.01), loss='categorical_crossentropy', metrics=['accuracy'])"
   ]
  },
  {
   "cell_type": "code",
   "execution_count": 30,
   "metadata": {},
   "outputs": [
    {
     "name": "stdout",
     "output_type": "stream",
     "text": [
      "Epoch 1/10\n",
      "\u001b[1m938/938\u001b[0m \u001b[32m━━━━━━━━━━━━━━━━━━━━\u001b[0m\u001b[37m\u001b[0m \u001b[1m3s\u001b[0m 2ms/step - accuracy: 0.6116 - loss: 1.3897 - val_accuracy: 0.8895 - val_loss: 0.3979\n",
      "Epoch 2/10\n",
      "\u001b[1m938/938\u001b[0m \u001b[32m━━━━━━━━━━━━━━━━━━━━\u001b[0m\u001b[37m\u001b[0m \u001b[1m2s\u001b[0m 2ms/step - accuracy: 0.8935 - loss: 0.3848 - val_accuracy: 0.9098 - val_loss: 0.3175\n",
      "Epoch 3/10\n",
      "\u001b[1m938/938\u001b[0m \u001b[32m━━━━━━━━━━━━━━━━━━━━\u001b[0m\u001b[37m\u001b[0m \u001b[1m2s\u001b[0m 2ms/step - accuracy: 0.9090 - loss: 0.3157 - val_accuracy: 0.9203 - val_loss: 0.2755\n",
      "Epoch 4/10\n",
      "\u001b[1m938/938\u001b[0m \u001b[32m━━━━━━━━━━━━━━━━━━━━\u001b[0m\u001b[37m\u001b[0m \u001b[1m2s\u001b[0m 2ms/step - accuracy: 0.9219 - loss: 0.2741 - val_accuracy: 0.9288 - val_loss: 0.2507\n",
      "Epoch 5/10\n",
      "\u001b[1m938/938\u001b[0m \u001b[32m━━━━━━━━━━━━━━━━━━━━\u001b[0m\u001b[37m\u001b[0m \u001b[1m2s\u001b[0m 2ms/step - accuracy: 0.9285 - loss: 0.2504 - val_accuracy: 0.9341 - val_loss: 0.2356\n",
      "Epoch 6/10\n",
      "\u001b[1m938/938\u001b[0m \u001b[32m━━━━━━━━━━━━━━━━━━━━\u001b[0m\u001b[37m\u001b[0m \u001b[1m2s\u001b[0m 2ms/step - accuracy: 0.9328 - loss: 0.2339 - val_accuracy: 0.9371 - val_loss: 0.2199\n",
      "Epoch 7/10\n",
      "\u001b[1m938/938\u001b[0m \u001b[32m━━━━━━━━━━━━━━━━━━━━\u001b[0m\u001b[37m\u001b[0m \u001b[1m2s\u001b[0m 2ms/step - accuracy: 0.9364 - loss: 0.2201 - val_accuracy: 0.9404 - val_loss: 0.2043\n",
      "Epoch 8/10\n",
      "\u001b[1m938/938\u001b[0m \u001b[32m━━━━━━━━━━━━━━━━━━━━\u001b[0m\u001b[37m\u001b[0m \u001b[1m2s\u001b[0m 2ms/step - accuracy: 0.9427 - loss: 0.2046 - val_accuracy: 0.9440 - val_loss: 0.1934\n",
      "Epoch 9/10\n",
      "\u001b[1m938/938\u001b[0m \u001b[32m━━━━━━━━━━━━━━━━━━━━\u001b[0m\u001b[37m\u001b[0m \u001b[1m2s\u001b[0m 2ms/step - accuracy: 0.9438 - loss: 0.1927 - val_accuracy: 0.9462 - val_loss: 0.1800\n",
      "Epoch 10/10\n",
      "\u001b[1m938/938\u001b[0m \u001b[32m━━━━━━━━━━━━━━━━━━━━\u001b[0m\u001b[37m\u001b[0m \u001b[1m2s\u001b[0m 2ms/step - accuracy: 0.9487 - loss: 0.1801 - val_accuracy: 0.9474 - val_loss: 0.1741\n"
     ]
    },
    {
     "data": {
      "text/plain": [
       "<keras.src.callbacks.history.History at 0x2f119e872f0>"
      ]
     },
     "execution_count": 30,
     "metadata": {},
     "output_type": "execute_result"
    }
   ],
   "source": [
    "# Huấn luyện mô hình\n",
    "model3.fit(train_images, train_labels, epochs=10, batch_size=64, validation_data=(test_images, test_labels))"
   ]
  },
  {
   "cell_type": "code",
   "execution_count": 31,
   "metadata": {},
   "outputs": [
    {
     "name": "stdout",
     "output_type": "stream",
     "text": [
      "\u001b[1m313/313\u001b[0m \u001b[32m━━━━━━━━━━━━━━━━━━━━\u001b[0m\u001b[37m\u001b[0m \u001b[1m1s\u001b[0m 1ms/step\n",
      "Accuracy: 0.9474\n",
      "Class 0: Precision: 0.9677, Recall: 0.9786, F1-score: 0.9731\n",
      "Class 1: Precision: 0.9806, Recall: 0.9780, F1-score: 0.9793\n",
      "Class 2: Precision: 0.9406, Recall: 0.9506, F1-score: 0.9455\n",
      "Class 3: Precision: 0.9408, Recall: 0.9436, F1-score: 0.9422\n",
      "Class 4: Precision: 0.9155, Recall: 0.9603, F1-score: 0.9374\n",
      "Class 5: Precision: 0.9465, Recall: 0.9327, F1-score: 0.9396\n",
      "Class 6: Precision: 0.9400, Recall: 0.9656, F1-score: 0.9526\n",
      "Class 7: Precision: 0.9607, Recall: 0.9280, F1-score: 0.9441\n",
      "Class 8: Precision: 0.9320, Recall: 0.9281, F1-score: 0.9300\n",
      "Class 9: Precision: 0.9461, Recall: 0.9049, F1-score: 0.9250\n"
     ]
    }
   ],
   "source": [
    "# Dự đoán\n",
    "y3_pred = model3.predict(test_images)\n",
    "y3_pred_classes = np.argmax(y3_pred, axis=1)\n",
    "y3_true_classes = np.argmax(test_labels, axis=1)\n",
    "\n",
    "# Tính accuracy\n",
    "accuracy3 = accuracy_score(y3_true_classes, y3_pred_classes)\n",
    "\n",
    "# Tính precision, recall, F1 cho từng lớp (chữ số từ 0 đến 9)\n",
    "precision3, recall3, f13, _ = precision_recall_fscore_support(y3_true_classes, y3_pred_classes, average=None)\n",
    "\n",
    "# In kết quả\n",
    "print(f'Accuracy: {accuracy3:.4f}')\n",
    "for i in range(10):  # Với từng chữ số từ 0 đến 9\n",
    "    print(f'Class {i}: Precision: {precision3[i]:.4f}, Recall: {recall3[i]:.4f}, F1-score: {f13[i]:.4f}')"
   ]
  },
  {
   "cell_type": "markdown",
   "metadata": {},
   "source": [
    "#### Một số trực quan hóa"
   ]
  },
  {
   "cell_type": "code",
   "execution_count": 36,
   "metadata": {},
   "outputs": [
    {
     "data": {
      "text/plain": [
       "<matplotlib.legend.Legend at 0x2f12872e8a0>"
      ]
     },
     "execution_count": 36,
     "metadata": {},
     "output_type": "execute_result"
    },
    {
     "data": {
      "image/png": "[encoded data removed]",
      "text/plain": [
       "<Figure size 1200x600 with 1 Axes>"
      ]
     },
     "metadata": {},
     "output_type": "display_data"
    }
   ],
   "source": [
    "# Vẽ biểu đồ\n",
    "labels = range(10)\n",
    "x = np.arange(len(labels))\n",
    "\n",
    "plt.figure(figsize=(12, 6))\n",
    "\n",
    "# Biểu đồ cho Precision\n",
    "plt.subplot(2, 2, 2)\n",
    "plt.bar(x - 0.2, precision1, width=0.4, label='1-layer MLP')\n",
    "plt.bar(x + 0.2, precision3, width=0.4, label='3-layer MLP')\n",
    "plt.xticks(x, labels)\n",
    "plt.title('Precision Comparison')\n",
    "plt.xlabel('Classes (0-9)')\n",
    "plt.ylabel('Precision')\n",
    "plt.legend()"
   ]
  },
  {
   "cell_type": "code",
   "execution_count": 38,
   "metadata": {},
   "outputs": [
    {
     "data": {
      "text/plain": [
       "<matplotlib.legend.Legend at 0x2f12886ee40>"
      ]
     },
     "execution_count": 38,
     "metadata": {},
     "output_type": "execute_result"
    },
    {
     "data": {
      "image/png": "[encoded data removed]",
      "text/plain": [
       "<Figure size 1200x600 with 1 Axes>"
      ]
     },
     "metadata": {},
     "output_type": "display_data"
    }
   ],
   "source": [
    "# Biểu đồ cho Recall\n",
    "plt.figure(figsize=(12, 6))\n",
    "\n",
    "plt.subplot(2, 2, 3)\n",
    "plt.bar(x - 0.2, recall1, width=0.4, label='1-layer MLP')\n",
    "plt.bar(x + 0.2, recall3, width=0.4, label='3-layer MLP')\n",
    "plt.xticks(x, labels)\n",
    "plt.title('Recall Comparison')\n",
    "plt.xlabel('Classes (0-9)')\n",
    "plt.ylabel('Recall')\n",
    "plt.legend()"
   ]
  },
  {
   "cell_type": "code",
   "execution_count": 40,
   "metadata": {},
   "outputs": [
    {
     "data": {
      "text/plain": [
       "<matplotlib.legend.Legend at 0x2f1289c2ff0>"
      ]
     },
     "execution_count": 40,
     "metadata": {},
     "output_type": "execute_result"
    },
    {
     "data": {
      "image/png": "[encoded data removed]",
      "text/plain": [
       "<Figure size 1200x600 with 1 Axes>"
      ]
     },
     "metadata": {},
     "output_type": "display_data"
    }
   ],
   "source": [
    "# Biểu đồ cho F1-score\n",
    "plt.figure(figsize=(12, 6))\n",
    "\n",
    "plt.subplot(2, 2, 4)\n",
    "plt.bar(x - 0.2, f11, width=0.4, label='1-layer MLP')\n",
    "plt.bar(x + 0.2, f13, width=0.4, label='3-layer MLP')\n",
    "plt.xticks(x, labels)\n",
    "plt.title('F1-score Comparison')\n",
    "plt.xlabel('Classes (0-9)')\n",
    "plt.ylabel('F1-score')\n",
    "plt.legend()"
   ]
  }
 ],
 "metadata": {
  "kernelspec": {
   "display_name": "Python 3",
   "language": "python",
   "name": "python3"
  },
  "language_info": {
   "codemirror_mode": {
    "name": "ipython",
    "version": 3
   },
   "file_extension": ".py",
   "mimetype": "text/x-python",
   "name": "python",
   "nbconvert_exporter": "python",
   "pygments_lexer": "ipython3",
   "version": "3.12.3"
  }
 },
 "nbformat": 4,
 "nbformat_minor": 2
}
